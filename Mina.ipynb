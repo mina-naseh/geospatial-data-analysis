{
 "cells": [
  {
   "cell_type": "code",
   "execution_count": 1,
   "metadata": {},
   "outputs": [],
   "source": [
    "import pandas as pd\n",
    "import numpy as np\n",
    "# import folium\n",
    "import matplotlib.pyplot as plt\n",
    "# from mpl_toolkits.basemap import Basemap\n",
    "from scipy.stats import gaussian_kde\n",
    "import seaborn as sns"
   ]
  },
  {
   "cell_type": "markdown",
   "metadata": {},
   "source": [
    "GBIF.org (04 November 2024) GBIF Occurrence Download  https://doi.org/10.15468/dl.s8gc9c"
   ]
  },
  {
   "cell_type": "code",
   "execution_count": 2,
   "metadata": {},
   "outputs": [
    {
     "data": {
      "text/html": [
       "<div>\n",
       "<style scoped>\n",
       "    .dataframe tbody tr th:only-of-type {\n",
       "        vertical-align: middle;\n",
       "    }\n",
       "\n",
       "    .dataframe tbody tr th {\n",
       "        vertical-align: top;\n",
       "    }\n",
       "\n",
       "    .dataframe thead th {\n",
       "        text-align: right;\n",
       "    }\n",
       "</style>\n",
       "<table border=\"1\" class=\"dataframe\">\n",
       "  <thead>\n",
       "    <tr style=\"text-align: right;\">\n",
       "      <th></th>\n",
       "      <th>gbifID\\tdatasetKey\\toccurrenceID\\tkingdom\\tphylum\\tclass\\torder\\tfamily\\tgenus\\tspecies\\tinfraspecificEpithet\\ttaxonRank\\tscientificName\\tverbatimScientificName\\tverbatimScientificNameAuthorship\\tcountryCode\\tlocality\\tstateProvince\\toccurrenceStatus\\tindividualCount\\tpublishingOrgKey\\tdecimalLatitude\\tdecimalLongitude\\tcoordinateUncertaintyInMeters\\tcoordinatePrecision\\televation\\televationAccuracy\\tdepth\\tdepthAccuracy\\teventDate\\tday\\tmonth\\tyear\\ttaxonKey\\tspeciesKey\\tbasisOfRecord\\tinstitutionCode\\tcollectionCode\\tcatalogNumber\\trecordNumber\\tidentifiedBy\\tdateIdentified\\tlicense\\trightsHolder\\trecordedBy\\ttypeStatus\\testablishmentMeans\\tlastInterpreted\\tmediaType\\tissue</th>\n",
       "    </tr>\n",
       "  </thead>\n",
       "  <tbody>\n",
       "    <tr>\n",
       "      <th>1986821111\\td1e8a7af-097a-4ca8-aa91-62d3ff834711\\td33e1483-ad6a-4aa2-95bd-5d4568a3cd3b\\tAnimalia\\tChordata\\tAves\\tPasseriformes\\tZosteropidae\\tZosterops\\tZosterops silvanus\\t\\tSPECIES\\tZosterops silvanus J.L.Peters &amp; Loveridge</th>\n",
       "      <td>1935\\tZosterops silvanus\\t\\tKE\\t\\t\\tPRESENT\\t...</td>\n",
       "    </tr>\n",
       "    <tr>\n",
       "      <th>1986821110\\td1e8a7af-097a-4ca8-aa91-62d3ff834711\\td12a2b54-f12a-40a7-bfb5-90b4998af7d3\\tAnimalia\\tChordata\\tAves\\tPasseriformes\\tZosteropidae\\tZosterops\\tZosterops senegalensis\\t\\tSPECIES\\tZosterops senegalensis Bonaparte</th>\n",
       "      <td>1850\\tZosterops senegalensis\\t\\tKE\\t\\t\\tPRESE...</td>\n",
       "    </tr>\n",
       "    <tr>\n",
       "      <th>1986821109\\td1e8a7af-097a-4ca8-aa91-62d3ff834711\\tff92601a-f8b9-4db0-90a1-e4d0b233ace0\\tAnimalia\\tChordata\\tAves\\tPasseriformes\\tZosteropidae\\tZosterops\\tZosterops senegalensis\\t\\tSPECIES\\tZosterops senegalensis Bonaparte</th>\n",
       "      <td>1850\\tZosterops senegalensis\\t\\tKE\\t\\t\\tPRESE...</td>\n",
       "    </tr>\n",
       "    <tr>\n",
       "      <th>1986821108\\td1e8a7af-097a-4ca8-aa91-62d3ff834711\\ta6bf4a1c-5c59-4a23-a18a-4ca9e6c36342\\tAnimalia\\tChordata\\tAves\\tPasseriformes\\tZosteropidae\\tZosterops\\tZosterops silvanus\\t\\tSPECIES\\tZosterops silvanus J.L.Peters &amp; Loveridge</th>\n",
       "      <td>1935\\tZosterops silvanus\\t\\tKE\\t\\t\\tPRESENT\\t...</td>\n",
       "    </tr>\n",
       "    <tr>\n",
       "      <th>1986821107\\td1e8a7af-097a-4ca8-aa91-62d3ff834711\\t215c7fe0-9e39-4497-86b5-87532c478ef8\\tAnimalia\\tChordata\\tAves\\tPasseriformes\\tZosteropidae\\tZosterops\\tZosterops silvanus\\t\\tSPECIES\\tZosterops silvanus J.L.Peters &amp; Loveridge</th>\n",
       "      <td>1935\\tZosterops silvanus\\t\\tKE\\t\\t\\tPRESENT\\t...</td>\n",
       "    </tr>\n",
       "  </tbody>\n",
       "</table>\n",
       "</div>"
      ],
      "text/plain": [
       "                                                   gbifID\\tdatasetKey\\toccurrenceID\\tkingdom\\tphylum\\tclass\\torder\\tfamily\\tgenus\\tspecies\\tinfraspecificEpithet\\ttaxonRank\\tscientificName\\tverbatimScientificName\\tverbatimScientificNameAuthorship\\tcountryCode\\tlocality\\tstateProvince\\toccurrenceStatus\\tindividualCount\\tpublishingOrgKey\\tdecimalLatitude\\tdecimalLongitude\\tcoordinateUncertaintyInMeters\\tcoordinatePrecision\\televation\\televationAccuracy\\tdepth\\tdepthAccuracy\\teventDate\\tday\\tmonth\\tyear\\ttaxonKey\\tspeciesKey\\tbasisOfRecord\\tinstitutionCode\\tcollectionCode\\tcatalogNumber\\trecordNumber\\tidentifiedBy\\tdateIdentified\\tlicense\\trightsHolder\\trecordedBy\\ttypeStatus\\testablishmentMeans\\tlastInterpreted\\tmediaType\\tissue\n",
       "1986821111\\td1e8a7af-097a-4ca8-aa91-62d3ff83471...   1935\\tZosterops silvanus\\t\\tKE\\t\\t\\tPRESENT\\t...                                                                                                                                                                                                                                                                                                                                                                                                                                                                                                                                                                                                                                                          \n",
       "1986821110\\td1e8a7af-097a-4ca8-aa91-62d3ff83471...   1850\\tZosterops senegalensis\\t\\tKE\\t\\t\\tPRESE...                                                                                                                                                                                                                                                                                                                                                                                                                                                                                                                                                                                                                                                          \n",
       "1986821109\\td1e8a7af-097a-4ca8-aa91-62d3ff83471...   1850\\tZosterops senegalensis\\t\\tKE\\t\\t\\tPRESE...                                                                                                                                                                                                                                                                                                                                                                                                                                                                                                                                                                                                                                                          \n",
       "1986821108\\td1e8a7af-097a-4ca8-aa91-62d3ff83471...   1935\\tZosterops silvanus\\t\\tKE\\t\\t\\tPRESENT\\t...                                                                                                                                                                                                                                                                                                                                                                                                                                                                                                                                                                                                                                                          \n",
       "1986821107\\td1e8a7af-097a-4ca8-aa91-62d3ff83471...   1935\\tZosterops silvanus\\t\\tKE\\t\\t\\tPRESENT\\t...                                                                                                                                                                                                                                                                                                                                                                                                                                                                                                                                                                                                                                                          "
      ]
     },
     "execution_count": 2,
     "metadata": {},
     "output_type": "execute_result"
    }
   ],
   "source": [
    "original_data = pd.read_csv('kenya_birds.csv')\n",
    "original_data.head()"
   ]
  },
  {
   "cell_type": "code",
   "execution_count": null,
   "metadata": {},
   "outputs": [],
   "source": []
  }
 ],
 "metadata": {
  "kernelspec": {
   "display_name": "Python 3",
   "language": "python",
   "name": "python3"
  },
  "language_info": {
   "codemirror_mode": {
    "name": "ipython",
    "version": 3
   },
   "file_extension": ".py",
   "mimetype": "text/x-python",
   "name": "python",
   "nbconvert_exporter": "python",
   "pygments_lexer": "ipython3",
   "version": "3.10.14"
  }
 },
 "nbformat": 4,
 "nbformat_minor": 2
}
